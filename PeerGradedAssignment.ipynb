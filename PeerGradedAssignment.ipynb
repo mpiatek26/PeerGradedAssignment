{
 "cells": [
  {
   "cell_type": "markdown",
   "id": "0856cf0f-6bb7-4b0b-8387-0efd5073e04e",
   "metadata": {},
   "source": [
    "# My Jupyter Notebook on IBM Watson Studio"
   ]
  },
  {
   "cell_type": "markdown",
   "id": "559f2a56-5e46-4ba6-af74-d4b811d874ce",
   "metadata": {},
   "source": [
    "**Michael Piatek**\n",
    "\n",
    "Data Scientist\n",
    "\n",
    "*I am interested in data science because it provides me with the tools and techniques to uncover meaningful insights from complex data sets. It is a dynamic field that combines my love for mathematics, programming, and problem-solving to make a real impact on businesses and society.*"
   ]
  },
  {
   "cell_type": "markdown",
   "id": "75ca3cc2-f3b0-4502-8a50-94c506f2d6d2",
   "metadata": {},
   "source": [
    "### This code solves for what two + six equals. "
   ]
  },
  {
   "cell_type": "code",
   "execution_count": 4,
   "id": "087e42de-7756-4dcf-8e03-217a6dbf7717",
   "metadata": {},
   "outputs": [
    {
     "name": "stdout",
     "output_type": "stream",
     "text": [
      "8\n"
     ]
    }
   ],
   "source": [
    "two = 2\n",
    "six = 6\n",
    "print(2 + 6)"
   ]
  },
  {
   "cell_type": "markdown",
   "id": "ad971fc4-d6fc-4d57-883b-6db5713ec411",
   "metadata": {},
   "source": [
    "Horizontal line \n",
    "\n",
    "---\n",
    "\n",
    "- First bullet point\n",
    "- Second bullet point\n",
    "- Third bullet point\n",
    "\n"
   ]
  }
 ],
 "metadata": {
  "kernelspec": {
   "display_name": "Python",
   "language": "python",
   "name": "conda-env-python-py"
  },
  "language_info": {
   "codemirror_mode": {
    "name": "ipython",
    "version": 3
   },
   "file_extension": ".py",
   "mimetype": "text/x-python",
   "name": "python",
   "nbconvert_exporter": "python",
   "pygments_lexer": "ipython3",
   "version": "3.7.12"
  }
 },
 "nbformat": 4,
 "nbformat_minor": 5
}
